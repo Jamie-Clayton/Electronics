{
 "cells": [
  {
   "cell_type": "markdown",
   "metadata": {},
   "source": [
    "# Overview\n",
    "\n",
    "[Configure a RaspberryPi in the Microsoft Cloud Service](https://docs.microsoft.com/en-us/azure/iot-hub/iot-hub-raspberry-pi-kit-c-get-started)"
   ]
  },
  {
   "cell_type": "code",
   "execution_count": null,
   "metadata": {
    "dotnet_interactive": {
     "language": "pwsh"
    }
   },
   "outputs": [
    {
     "name": "stdout",
     "output_type": "stream",
     "text": [
      "ERROR: No matching extensions for 'azure-cli-iot-ext'. Use --debug for more information.\r\n"
     ]
    }
   ],
   "source": [
    "#!pwsh\n",
    "# Authenticate\n",
    "az login --allow-no-subscriptions\n",
    "\n",
    "# Enable Microsoft Azure Command line extensions to be loaded on demand (not everything is loaded when you install the Microsoft Azure Command Line Interface)\n",
    "az config set extension.use_dynamic_install=yes_without_prompt\n",
    "\n"
   ]
  }
 ],
 "metadata": {
  "kernelspec": {
   "display_name": ".NET (C#)",
   "language": "C#",
   "name": ".net-csharp"
  },
  "language_info": {
   "file_extension": ".cs",
   "mimetype": "text/x-csharp",
   "name": "C#",
   "pygments_lexer": "csharp",
   "version": "9.0"
  },
  "orig_nbformat": 4
 },
 "nbformat": 4,
 "nbformat_minor": 2
}
