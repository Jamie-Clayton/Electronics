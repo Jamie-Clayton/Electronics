{
 "metadata": {
  "language_info": {
   "codemirror_mode": {
    "name": "ipython",
    "version": 3
   },
   "file_extension": ".py",
   "mimetype": "text/x-python",
   "name": "python",
   "nbconvert_exporter": "python",
   "pygments_lexer": "ipython3",
   "version": "3.9.0-final"
  },
  "orig_nbformat": 2,
  "kernelspec": {
   "name": "Python 3.9.0 64-bit",
   "display_name": "Python 3.9.0 64-bit",
   "metadata": {
    "interpreter": {
     "hash": "63fd5069d213b44bf678585dea6b12cceca9941eaf7f819626cde1f2670de90d"
    }
   }
  }
 },
 "nbformat": 4,
 "nbformat_minor": 2,
 "cells": [
  {
   "source": [
    "# Sensor data\n",
    "\n",
    "Weather stations will involve collecting data from sensor. We need to consider ways of dealing with that data and how we might act on it.\n",
    "\n",
    "Useful software techniques include the following key terms\n",
    "\n",
    "- Loops\n",
    "- For, While, Range\n",
    "- Len(xyz), Count(xyz)\n",
    "- string.Find(xyz)\n",
    "\n",
    "These terms allow you to apply logic to the information provided from the sensors and reduces the amount code you need to write.\n",
    "\n",
    "## Loops using FOR statements\n"
   ],
   "cell_type": "markdown",
   "metadata": {}
  },
  {
   "cell_type": "code",
   "execution_count": 1,
   "metadata": {},
   "outputs": [
    {
     "output_type": "stream",
     "name": "stdout",
     "text": [
      " -> 19.5C\n -> 20.56C\n -> 22.62C\n -> 20.2C\n -> 19.6C\n -> 19.5C\n -> 19.5C\n -> 19.45C\n"
     ]
    }
   ],
   "source": [
    "sensorData = [19.5, 20.56, 22.62, 20.2, 19.6, 19.5, 19.5, 19.45]\n",
    "\n",
    "# Loop through all the sensor entries and print them to screen\n",
    "for temperature in sensorData:\n",
    "    print (f\" -> {temperature}C\")      "
   ]
  },
  {
   "source": [
    "## Counting and Finding with LEN and COUNT\n",
    "\n",
    "\n",
    "That volume of data can get very large very quickly with sensors.  \n",
    "To understand that volume of data, you can use \n",
    " LEN (short for length)\n",
    " COUNT - the number of matching values."
   ],
   "cell_type": "markdown",
   "metadata": {}
  },
  {
   "cell_type": "code",
   "execution_count": 2,
   "metadata": {},
   "outputs": [
    {
     "output_type": "stream",
     "name": "stdout",
     "text": [
      "Recorded 8 temperature entries\nFound '5' 19.5 measurements\n"
     ]
    }
   ],
   "source": [
    "sensorData = [19.5, 20.56, 19.5, 20.2, 19.5, 19.5, 19.5, 19.45]\n",
    "# Count some of the entries\n",
    "print (\"Recorded\", len(sensorData), \"temperature entries\")\n",
    "print (f\"Found '{sensorData.count(19.5)}' 19.5 measurements\")"
   ]
  },
  {
   "source": [
    "## Loops and decisions\n",
    "\n",
    "The three little bears provide an excellent example of temperature sensor decision making."
   ],
   "cell_type": "markdown",
   "metadata": {}
  },
  {
   "source": [
    "sensorData = [19.13, 20.56, 20.56, 22.62, 35.88, 65.05, 90.5, 45, 32, 24, 20.2, 19.6, 19.5, 19.5, 19.45, 10,4.9,4.7,4.9,4.7]\n",
    "\n",
    "tooHighValues = []\n",
    "tooLowValues = []\n",
    "justRightValues = []\n",
    "for temperature in sensorData:\n",
    "    if temperature > 40:\n",
    "        tooHighValues.append(temperature)\n",
    "        continue\n",
    "    elif temperature < 5:\n",
    "        tooLowValues.append(temperature)\n",
    "        continue\n",
    "    elif temperature > 90:\n",
    "        print(\"Sensor temperature range exceeded - Please check the sensor.\")\n",
    "        break\n",
    "    else:\n",
    "        justRightValues.append(temperature)\n",
    "\n",
    "print (f\"Found {len(tooHighValues)} too hot\")\n",
    "print (f\"Found {len(tooLowValues)} too cold\")\n",
    "print(f\"Found {len(justRightValues)} perfect weather\")"
   ],
   "cell_type": "code",
   "metadata": {},
   "execution_count": 3,
   "outputs": [
    {
     "output_type": "stream",
     "name": "stdout",
     "text": [
      "Found 3 too hot\nFound 4 too cold\nFound 13 perfect weather\n"
     ]
    }
   ]
  },
  {
   "source": [
    "## Escaping the Loop\n",
    "\n",
    "Eventually you may need to stop the software and act due to the working range of a sensor being exceeded. Most electronics has an operating range, so we can use this to automate actions."
   ],
   "cell_type": "markdown",
   "metadata": {}
  },
  {
   "cell_type": "code",
   "execution_count": 4,
   "metadata": {},
   "outputs": [
    {
     "output_type": "stream",
     "name": "stdout",
     "text": [
      "Mens shed too hot 37C - Send everyone home, please.\nSensor temperature 60C > 55C, indicating a potential fire! Bring marshmello's ...\nSensor temperature range exceeded. Please check the sensor.\nLast Sensor reading processes 30\n[20.56, 25.75, 30]\n"
     ]
    }
   ],
   "source": [
    "sensorData = [20.56, 20.56, 25.75, 25.75, 30, 30, 37, 60, 150]\n",
    "\n",
    "uniqueReadings = []\n",
    "lastReading = 0\n",
    "for temperature in sensorData:\n",
    "    if temperature > 90:\n",
    "        print(\"Sensor temperature range exceeded. Please check the sensor.\")\n",
    "        break\n",
    "    if temperature > 55:\n",
    "        print(f\"Sensor temperature {temperature}C > 55C, indicating a potential fire! Bring marshmello's ...\")\n",
    "        continue\n",
    "    elif temperature > 35:\n",
    "        print(f\"Mens shed too hot {temperature}C - Send everyone home, please.\")\n",
    "    else:\n",
    "        if (lastReading != temperature):\n",
    "            uniqueReadings.append(temperature)\n",
    "        lastReading = temperature\n",
    "\n",
    "print (f\"Last Sensor reading processes {lastReading}\")\n",
    "print (uniqueReadings)"
   ]
  },
  {
   "source": [
    "## Loops with WHILE statements\n",
    "\n",
    "While statements allow things to continue until something is true.  The are popular with electronics programs as then enable the software continue running for long periods of time."
   ],
   "cell_type": "markdown",
   "metadata": {}
  },
  {
   "cell_type": "code",
   "execution_count": 5,
   "metadata": {},
   "outputs": [
    {
     "output_type": "stream",
     "name": "stdout",
     "text": [
      "Drink too hot to drink @ 40C\nDrink too hot to drink @ 32C\nDrink too hot to drink @ 24C\nDrink too hot to drink @ 16C\nDrink drink @ 8C after 4 chilling attempts\n"
     ]
    }
   ],
   "source": [
    "drinkTemp = 40\n",
    "chillByC = 8\n",
    "coolingAttempt = 0\n",
    "drinkToHot = True\n",
    "\n",
    "while drinkTemp > 10:\n",
    "    print (f\"Drink too hot to drink @ {drinkTemp}C\")\n",
    "    # Cool the beverage\n",
    "    drinkTemp = drinkTemp - chillByC\n",
    "    # Count how many times we have to chill the drink\n",
    "    coolingAttempt = coolingAttempt + 1\n",
    "\n",
    "print(f\"Drink drink @ {drinkTemp}C after {coolingAttempt} chilling attempts\")"
   ]
  },
  {
   "cell_type": "code",
   "execution_count": null,
   "metadata": {},
   "outputs": [],
   "source": []
  }
 ]
}